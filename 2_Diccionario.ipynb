{
  "cells": [
    {
      "cell_type": "markdown",
      "metadata": {
        "id": "view-in-github",
        "colab_type": "text"
      },
      "source": [
        "<a href=\"https://colab.research.google.com/github/SaraVillarraga/Inteoduccionpython2023/blob/main/2_Diccionario.ipynb\" target=\"_parent\"><img src=\"https://colab.research.google.com/assets/colab-badge.svg\" alt=\"Open In Colab\"/></a>"
      ]
    },
    {
      "cell_type": "markdown",
      "id": "590605a7-5b1f-4206-b388-464dd4949eec",
      "metadata": {
        "id": "590605a7-5b1f-4206-b388-464dd4949eec"
      },
      "source": [
        "# **Diccionario Python**\n",
        "\n",
        "En Python, un diccionario es una estructura de datos que permite almacenar pares clave-valor. Cada elemento en un diccionario se compone de una clave y un valor asociado. Las claves en un diccionario deben ser únicas y los valores pueden ser cualquier objeto de Python, como números, cadenas, listas o incluso otros diccionarios.\n",
        "\n",
        "Se crea con {}"
      ]
    },
    {
      "cell_type": "code",
      "execution_count": null,
      "id": "4449e256-33f8-449a-bfcf-99f41ad54d42",
      "metadata": {
        "id": "4449e256-33f8-449a-bfcf-99f41ad54d42"
      },
      "outputs": [],
      "source": [
        "Preciosfrutas = {\"Manzanas\":9000,\"Bananas\":500,\"Naranjas\":1500}"
      ]
    },
    {
      "cell_type": "code",
      "execution_count": null,
      "id": "a4923ee7-53dd-4d4f-ab4a-db307d8be679",
      "metadata": {
        "id": "a4923ee7-53dd-4d4f-ab4a-db307d8be679",
        "outputId": "ba4ce12a-a050-4c49-913f-4798189bad66"
      },
      "outputs": [
        {
          "data": {
            "text/plain": [
              "{'Manzanas': 9000, 'Bananas': 500, 'Naranjas': 1500}"
            ]
          },
          "execution_count": 14,
          "metadata": {},
          "output_type": "execute_result"
        }
      ],
      "source": [
        "Preciosfrutas"
      ]
    },
    {
      "cell_type": "code",
      "execution_count": null,
      "id": "d493eecf-f1d4-4a4e-a5e4-51a4a392f3b1",
      "metadata": {
        "id": "d493eecf-f1d4-4a4e-a5e4-51a4a392f3b1",
        "outputId": "65e18599-76f1-40d3-9d5f-c7f90a5e39dd"
      },
      "outputs": [
        {
          "data": {
            "text/plain": [
              "dict_keys(['Manzanas', 'Bananas', 'Naranjas'])"
            ]
          },
          "execution_count": 15,
          "metadata": {},
          "output_type": "execute_result"
        }
      ],
      "source": [
        "## Key o claves\n",
        "Preciosfrutas.keys()"
      ]
    },
    {
      "cell_type": "code",
      "execution_count": null,
      "id": "f566b15e-7c24-4cda-af81-7dd3acd35304",
      "metadata": {
        "id": "f566b15e-7c24-4cda-af81-7dd3acd35304",
        "outputId": "77c14264-9e19-4a7c-b21f-6d9cab5aff06"
      },
      "outputs": [
        {
          "data": {
            "text/plain": [
              "dict_values([9000, 500, 1500])"
            ]
          },
          "execution_count": 16,
          "metadata": {},
          "output_type": "execute_result"
        }
      ],
      "source": [
        "## Valores\n",
        "Preciosfrutas.values()"
      ]
    },
    {
      "cell_type": "code",
      "execution_count": null,
      "id": "b50f99d6-1f69-460d-b12c-acf839a7613c",
      "metadata": {
        "id": "b50f99d6-1f69-460d-b12c-acf839a7613c",
        "outputId": "8b0774c3-257e-4114-fd35-d824b2c69616"
      },
      "outputs": [
        {
          "data": {
            "text/plain": [
              "9000"
            ]
          },
          "execution_count": 17,
          "metadata": {},
          "output_type": "execute_result"
        }
      ],
      "source": [
        "## Acceder a la informacion de los diccionarios \n",
        "Preciosfrutas.get(\"Manzanas\")"
      ]
    },
    {
      "cell_type": "code",
      "execution_count": null,
      "id": "f4480a66-71f5-4cee-b226-1ac248bdd934",
      "metadata": {
        "id": "f4480a66-71f5-4cee-b226-1ac248bdd934",
        "outputId": "5675e605-8371-42ee-802a-438b3d01de58"
      },
      "outputs": [
        {
          "data": {
            "text/plain": [
              "500"
            ]
          },
          "execution_count": 18,
          "metadata": {},
          "output_type": "execute_result"
        }
      ],
      "source": [
        "## Otra forma de acceder a la informacion de los diccionarios\n",
        "Preciosfrutas[\"Bananas\"]"
      ]
    },
    {
      "cell_type": "code",
      "execution_count": null,
      "id": "6fc4368c-7200-45f3-a9a2-9553af57236b",
      "metadata": {
        "id": "6fc4368c-7200-45f3-a9a2-9553af57236b"
      },
      "outputs": [],
      "source": [
        "Preciosfrutas.clear()"
      ]
    },
    {
      "cell_type": "code",
      "execution_count": null,
      "id": "0ae7b6b5-210e-4b5b-8e78-74333bf70dea",
      "metadata": {
        "id": "0ae7b6b5-210e-4b5b-8e78-74333bf70dea",
        "outputId": "2533ce90-44e6-4828-cab9-ea3d89d3307f"
      },
      "outputs": [
        {
          "data": {
            "text/plain": [
              "{}"
            ]
          },
          "execution_count": 20,
          "metadata": {},
          "output_type": "execute_result"
        }
      ],
      "source": [
        "Preciosfrutas"
      ]
    },
    {
      "cell_type": "code",
      "execution_count": null,
      "id": "f8f59142-232d-4363-bad5-977486416480",
      "metadata": {
        "id": "f8f59142-232d-4363-bad5-977486416480"
      },
      "outputs": [],
      "source": [
        "Preciosfrutas = {\"manzanas\":9000,\"bananas\":500,\"naranjas\":1500}"
      ]
    },
    {
      "cell_type": "code",
      "execution_count": null,
      "id": "906b2c3e-ea96-4824-b3b5-544e089ab33e",
      "metadata": {
        "id": "906b2c3e-ea96-4824-b3b5-544e089ab33e"
      },
      "outputs": [],
      "source": [
        "## Reemplazar un valor\n",
        "Preciosfrutas[\"bananas\"]=5000"
      ]
    },
    {
      "cell_type": "code",
      "execution_count": null,
      "id": "530f405b-ad5e-42ca-8699-3b76ef8da059",
      "metadata": {
        "id": "530f405b-ad5e-42ca-8699-3b76ef8da059",
        "outputId": "647f8cb3-c3c7-4a52-b426-20a8c3a828f6"
      },
      "outputs": [
        {
          "data": {
            "text/plain": [
              "{'manzanas': 9000, 'bananas': 5000, 'naranjas': 1500}"
            ]
          },
          "execution_count": 27,
          "metadata": {},
          "output_type": "execute_result"
        }
      ],
      "source": [
        "Preciosfrutas"
      ]
    },
    {
      "cell_type": "code",
      "execution_count": null,
      "id": "32e65452-5178-48cd-a74b-a48643ed1dcf",
      "metadata": {
        "id": "32e65452-5178-48cd-a74b-a48643ed1dcf"
      },
      "outputs": [],
      "source": []
    }
  ],
  "metadata": {
    "kernelspec": {
      "display_name": "Python 3 (ipykernel)",
      "language": "python",
      "name": "python3"
    },
    "language_info": {
      "codemirror_mode": {
        "name": "ipython",
        "version": 3
      },
      "file_extension": ".py",
      "mimetype": "text/x-python",
      "name": "python",
      "nbconvert_exporter": "python",
      "pygments_lexer": "ipython3",
      "version": "3.9.13"
    },
    "colab": {
      "provenance": [],
      "include_colab_link": true
    }
  },
  "nbformat": 4,
  "nbformat_minor": 5
}