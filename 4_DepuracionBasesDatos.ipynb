{
 "cells": [
  {
   "cell_type": "markdown",
   "id": "c00dcdee-b6eb-46f1-a557-c77dc6e0b191",
   "metadata": {},
   "source": [
    "# **1) Descripcion del problema**\n",
    "\n",
    "\n",
    "\n"
   ]
  },
  {
   "cell_type": "markdown",
   "id": "fa727c01-da70-469a-b021-8ce018e502ad",
   "metadata": {},
   "source": [
    "# **2) Importar Datos**"
   ]
  },
  {
   "cell_type": "markdown",
   "id": "ba016919-639b-4aab-896e-d98304197c1a",
   "metadata": {},
   "source": [
    "## **2.1 Importar Librerias**"
   ]
  },
  {
   "cell_type": "code",
   "execution_count": 6,
   "id": "60c68966-d034-4980-979f-aacd1982a0d2",
   "metadata": {},
   "outputs": [],
   "source": [
    "import pandas as pd\n",
    "import numpy as np\n",
    "import os\n",
    "## Configuramos el maximo de columnas a visualizar\n",
    "pd.set_option(\"display.max_columns\",50)"
   ]
  },
  {
   "cell_type": "markdown",
   "id": "a39b73d2-1187-4f35-8ab1-784d6ad365b5",
   "metadata": {},
   "source": [
    "**Importar desde carpeta local**"
   ]
  },
  {
   "cell_type": "code",
   "execution_count": 2,
   "id": "2292020f-b3d7-45fe-81c0-e15d5645bdde",
   "metadata": {},
   "outputs": [
    {
     "name": "stdout",
     "output_type": "stream",
     "text": [
      "C:\\Users\\Sara\\Documents\\DIPLOMADO\\Curso de Python\n"
     ]
    }
   ],
   "source": [
    "print(os.getcwd())"
   ]
  },
  {
   "cell_type": "code",
   "execution_count": 3,
   "id": "d8fe4540-6ed5-4fe0-b91a-cd45d53c5c91",
   "metadata": {},
   "outputs": [],
   "source": [
    "df=pd.read_csv(\"./Insumos/UCI_Credit_Card.csv\")"
   ]
  },
  {
   "cell_type": "code",
   "execution_count": 4,
   "id": "00735c51-6fb7-4a51-be96-70dda3adfb8c",
   "metadata": {},
   "outputs": [
    {
     "data": {
      "text/plain": [
       "(30000, 25)"
      ]
     },
     "execution_count": 4,
     "metadata": {},
     "output_type": "execute_result"
    }
   ],
   "source": [
    "df.shape ## Dimensión"
   ]
  },
  {
   "cell_type": "code",
   "execution_count": 5,
   "id": "2db6304e-15b0-46b8-a45b-888e9bb4db09",
   "metadata": {},
   "outputs": [
    {
     "data": {
      "text/html": [
       "<div>\n",
       "<style scoped>\n",
       "    .dataframe tbody tr th:only-of-type {\n",
       "        vertical-align: middle;\n",
       "    }\n",
       "\n",
       "    .dataframe tbody tr th {\n",
       "        vertical-align: top;\n",
       "    }\n",
       "\n",
       "    .dataframe thead th {\n",
       "        text-align: right;\n",
       "    }\n",
       "</style>\n",
       "<table border=\"1\" class=\"dataframe\">\n",
       "  <thead>\n",
       "    <tr style=\"text-align: right;\">\n",
       "      <th></th>\n",
       "      <th>ID</th>\n",
       "      <th>LIMIT_BAL</th>\n",
       "      <th>SEX</th>\n",
       "      <th>EDUCATION</th>\n",
       "      <th>MARRIAGE</th>\n",
       "      <th>AGE</th>\n",
       "      <th>PAY_0</th>\n",
       "      <th>PAY_2</th>\n",
       "      <th>PAY_3</th>\n",
       "      <th>PAY_4</th>\n",
       "      <th>...</th>\n",
       "      <th>BILL_AMT4</th>\n",
       "      <th>BILL_AMT5</th>\n",
       "      <th>BILL_AMT6</th>\n",
       "      <th>PAY_AMT1</th>\n",
       "      <th>PAY_AMT2</th>\n",
       "      <th>PAY_AMT3</th>\n",
       "      <th>PAY_AMT4</th>\n",
       "      <th>PAY_AMT5</th>\n",
       "      <th>PAY_AMT6</th>\n",
       "      <th>default.payment.next.month</th>\n",
       "    </tr>\n",
       "  </thead>\n",
       "  <tbody>\n",
       "    <tr>\n",
       "      <th>0</th>\n",
       "      <td>1</td>\n",
       "      <td>20000.0</td>\n",
       "      <td>2</td>\n",
       "      <td>2</td>\n",
       "      <td>1</td>\n",
       "      <td>24</td>\n",
       "      <td>2</td>\n",
       "      <td>2</td>\n",
       "      <td>-1</td>\n",
       "      <td>-1</td>\n",
       "      <td>...</td>\n",
       "      <td>0.0</td>\n",
       "      <td>0.0</td>\n",
       "      <td>0.0</td>\n",
       "      <td>0.0</td>\n",
       "      <td>689.0</td>\n",
       "      <td>0.0</td>\n",
       "      <td>0.0</td>\n",
       "      <td>0.0</td>\n",
       "      <td>0.0</td>\n",
       "      <td>1</td>\n",
       "    </tr>\n",
       "    <tr>\n",
       "      <th>1</th>\n",
       "      <td>2</td>\n",
       "      <td>120000.0</td>\n",
       "      <td>2</td>\n",
       "      <td>2</td>\n",
       "      <td>2</td>\n",
       "      <td>26</td>\n",
       "      <td>-1</td>\n",
       "      <td>2</td>\n",
       "      <td>0</td>\n",
       "      <td>0</td>\n",
       "      <td>...</td>\n",
       "      <td>3272.0</td>\n",
       "      <td>3455.0</td>\n",
       "      <td>3261.0</td>\n",
       "      <td>0.0</td>\n",
       "      <td>1000.0</td>\n",
       "      <td>1000.0</td>\n",
       "      <td>1000.0</td>\n",
       "      <td>0.0</td>\n",
       "      <td>2000.0</td>\n",
       "      <td>1</td>\n",
       "    </tr>\n",
       "    <tr>\n",
       "      <th>2</th>\n",
       "      <td>3</td>\n",
       "      <td>90000.0</td>\n",
       "      <td>2</td>\n",
       "      <td>2</td>\n",
       "      <td>2</td>\n",
       "      <td>34</td>\n",
       "      <td>0</td>\n",
       "      <td>0</td>\n",
       "      <td>0</td>\n",
       "      <td>0</td>\n",
       "      <td>...</td>\n",
       "      <td>14331.0</td>\n",
       "      <td>14948.0</td>\n",
       "      <td>15549.0</td>\n",
       "      <td>1518.0</td>\n",
       "      <td>1500.0</td>\n",
       "      <td>1000.0</td>\n",
       "      <td>1000.0</td>\n",
       "      <td>1000.0</td>\n",
       "      <td>5000.0</td>\n",
       "      <td>0</td>\n",
       "    </tr>\n",
       "    <tr>\n",
       "      <th>3</th>\n",
       "      <td>4</td>\n",
       "      <td>50000.0</td>\n",
       "      <td>2</td>\n",
       "      <td>2</td>\n",
       "      <td>1</td>\n",
       "      <td>37</td>\n",
       "      <td>0</td>\n",
       "      <td>0</td>\n",
       "      <td>0</td>\n",
       "      <td>0</td>\n",
       "      <td>...</td>\n",
       "      <td>28314.0</td>\n",
       "      <td>28959.0</td>\n",
       "      <td>29547.0</td>\n",
       "      <td>2000.0</td>\n",
       "      <td>2019.0</td>\n",
       "      <td>1200.0</td>\n",
       "      <td>1100.0</td>\n",
       "      <td>1069.0</td>\n",
       "      <td>1000.0</td>\n",
       "      <td>0</td>\n",
       "    </tr>\n",
       "    <tr>\n",
       "      <th>4</th>\n",
       "      <td>5</td>\n",
       "      <td>50000.0</td>\n",
       "      <td>1</td>\n",
       "      <td>2</td>\n",
       "      <td>1</td>\n",
       "      <td>57</td>\n",
       "      <td>-1</td>\n",
       "      <td>0</td>\n",
       "      <td>-1</td>\n",
       "      <td>0</td>\n",
       "      <td>...</td>\n",
       "      <td>20940.0</td>\n",
       "      <td>19146.0</td>\n",
       "      <td>19131.0</td>\n",
       "      <td>2000.0</td>\n",
       "      <td>36681.0</td>\n",
       "      <td>10000.0</td>\n",
       "      <td>9000.0</td>\n",
       "      <td>689.0</td>\n",
       "      <td>679.0</td>\n",
       "      <td>0</td>\n",
       "    </tr>\n",
       "    <tr>\n",
       "      <th>5</th>\n",
       "      <td>6</td>\n",
       "      <td>50000.0</td>\n",
       "      <td>1</td>\n",
       "      <td>1</td>\n",
       "      <td>2</td>\n",
       "      <td>37</td>\n",
       "      <td>0</td>\n",
       "      <td>0</td>\n",
       "      <td>0</td>\n",
       "      <td>0</td>\n",
       "      <td>...</td>\n",
       "      <td>19394.0</td>\n",
       "      <td>19619.0</td>\n",
       "      <td>20024.0</td>\n",
       "      <td>2500.0</td>\n",
       "      <td>1815.0</td>\n",
       "      <td>657.0</td>\n",
       "      <td>1000.0</td>\n",
       "      <td>1000.0</td>\n",
       "      <td>800.0</td>\n",
       "      <td>0</td>\n",
       "    </tr>\n",
       "    <tr>\n",
       "      <th>6</th>\n",
       "      <td>7</td>\n",
       "      <td>500000.0</td>\n",
       "      <td>1</td>\n",
       "      <td>1</td>\n",
       "      <td>2</td>\n",
       "      <td>29</td>\n",
       "      <td>0</td>\n",
       "      <td>0</td>\n",
       "      <td>0</td>\n",
       "      <td>0</td>\n",
       "      <td>...</td>\n",
       "      <td>542653.0</td>\n",
       "      <td>483003.0</td>\n",
       "      <td>473944.0</td>\n",
       "      <td>55000.0</td>\n",
       "      <td>40000.0</td>\n",
       "      <td>38000.0</td>\n",
       "      <td>20239.0</td>\n",
       "      <td>13750.0</td>\n",
       "      <td>13770.0</td>\n",
       "      <td>0</td>\n",
       "    </tr>\n",
       "    <tr>\n",
       "      <th>7</th>\n",
       "      <td>8</td>\n",
       "      <td>100000.0</td>\n",
       "      <td>2</td>\n",
       "      <td>2</td>\n",
       "      <td>2</td>\n",
       "      <td>23</td>\n",
       "      <td>0</td>\n",
       "      <td>-1</td>\n",
       "      <td>-1</td>\n",
       "      <td>0</td>\n",
       "      <td>...</td>\n",
       "      <td>221.0</td>\n",
       "      <td>-159.0</td>\n",
       "      <td>567.0</td>\n",
       "      <td>380.0</td>\n",
       "      <td>601.0</td>\n",
       "      <td>0.0</td>\n",
       "      <td>581.0</td>\n",
       "      <td>1687.0</td>\n",
       "      <td>1542.0</td>\n",
       "      <td>0</td>\n",
       "    </tr>\n",
       "    <tr>\n",
       "      <th>8</th>\n",
       "      <td>9</td>\n",
       "      <td>140000.0</td>\n",
       "      <td>2</td>\n",
       "      <td>3</td>\n",
       "      <td>1</td>\n",
       "      <td>28</td>\n",
       "      <td>0</td>\n",
       "      <td>0</td>\n",
       "      <td>2</td>\n",
       "      <td>0</td>\n",
       "      <td>...</td>\n",
       "      <td>12211.0</td>\n",
       "      <td>11793.0</td>\n",
       "      <td>3719.0</td>\n",
       "      <td>3329.0</td>\n",
       "      <td>0.0</td>\n",
       "      <td>432.0</td>\n",
       "      <td>1000.0</td>\n",
       "      <td>1000.0</td>\n",
       "      <td>1000.0</td>\n",
       "      <td>0</td>\n",
       "    </tr>\n",
       "    <tr>\n",
       "      <th>9</th>\n",
       "      <td>10</td>\n",
       "      <td>20000.0</td>\n",
       "      <td>1</td>\n",
       "      <td>3</td>\n",
       "      <td>2</td>\n",
       "      <td>35</td>\n",
       "      <td>-2</td>\n",
       "      <td>-2</td>\n",
       "      <td>-2</td>\n",
       "      <td>-2</td>\n",
       "      <td>...</td>\n",
       "      <td>0.0</td>\n",
       "      <td>13007.0</td>\n",
       "      <td>13912.0</td>\n",
       "      <td>0.0</td>\n",
       "      <td>0.0</td>\n",
       "      <td>0.0</td>\n",
       "      <td>13007.0</td>\n",
       "      <td>1122.0</td>\n",
       "      <td>0.0</td>\n",
       "      <td>0</td>\n",
       "    </tr>\n",
       "  </tbody>\n",
       "</table>\n",
       "<p>10 rows × 25 columns</p>\n",
       "</div>"
      ],
      "text/plain": [
       "   ID  LIMIT_BAL  SEX  EDUCATION  MARRIAGE  AGE  PAY_0  PAY_2  PAY_3  PAY_4  \\\n",
       "0   1    20000.0    2          2         1   24      2      2     -1     -1   \n",
       "1   2   120000.0    2          2         2   26     -1      2      0      0   \n",
       "2   3    90000.0    2          2         2   34      0      0      0      0   \n",
       "3   4    50000.0    2          2         1   37      0      0      0      0   \n",
       "4   5    50000.0    1          2         1   57     -1      0     -1      0   \n",
       "5   6    50000.0    1          1         2   37      0      0      0      0   \n",
       "6   7   500000.0    1          1         2   29      0      0      0      0   \n",
       "7   8   100000.0    2          2         2   23      0     -1     -1      0   \n",
       "8   9   140000.0    2          3         1   28      0      0      2      0   \n",
       "9  10    20000.0    1          3         2   35     -2     -2     -2     -2   \n",
       "\n",
       "   ...  BILL_AMT4  BILL_AMT5  BILL_AMT6  PAY_AMT1  PAY_AMT2  PAY_AMT3  \\\n",
       "0  ...        0.0        0.0        0.0       0.0     689.0       0.0   \n",
       "1  ...     3272.0     3455.0     3261.0       0.0    1000.0    1000.0   \n",
       "2  ...    14331.0    14948.0    15549.0    1518.0    1500.0    1000.0   \n",
       "3  ...    28314.0    28959.0    29547.0    2000.0    2019.0    1200.0   \n",
       "4  ...    20940.0    19146.0    19131.0    2000.0   36681.0   10000.0   \n",
       "5  ...    19394.0    19619.0    20024.0    2500.0    1815.0     657.0   \n",
       "6  ...   542653.0   483003.0   473944.0   55000.0   40000.0   38000.0   \n",
       "7  ...      221.0     -159.0      567.0     380.0     601.0       0.0   \n",
       "8  ...    12211.0    11793.0     3719.0    3329.0       0.0     432.0   \n",
       "9  ...        0.0    13007.0    13912.0       0.0       0.0       0.0   \n",
       "\n",
       "   PAY_AMT4  PAY_AMT5  PAY_AMT6  default.payment.next.month  \n",
       "0       0.0       0.0       0.0                           1  \n",
       "1    1000.0       0.0    2000.0                           1  \n",
       "2    1000.0    1000.0    5000.0                           0  \n",
       "3    1100.0    1069.0    1000.0                           0  \n",
       "4    9000.0     689.0     679.0                           0  \n",
       "5    1000.0    1000.0     800.0                           0  \n",
       "6   20239.0   13750.0   13770.0                           0  \n",
       "7     581.0    1687.0    1542.0                           0  \n",
       "8    1000.0    1000.0    1000.0                           0  \n",
       "9   13007.0    1122.0       0.0                           0  \n",
       "\n",
       "[10 rows x 25 columns]"
      ]
     },
     "execution_count": 5,
     "metadata": {},
     "output_type": "execute_result"
    }
   ],
   "source": [
    "## Vista previa\n",
    "df.head(10)"
   ]
  },
  {
   "cell_type": "markdown",
   "id": "86d803fa-1da8-4e71-b66e-d2227b609ae8",
   "metadata": {},
   "source": [
    "**Importar desde Github**"
   ]
  },
  {
   "cell_type": "code",
   "execution_count": 14,
   "id": "4e0a487d-b980-4d00-a39b-b43e02126926",
   "metadata": {},
   "outputs": [],
   "source": [
    "df_github=pd.read_csv(\"https://raw.githubusercontent.com/SaraVillarraga/Inteoduccionpython2023/main/UCI_Credit_Card.csv\")"
   ]
  },
  {
   "cell_type": "code",
   "execution_count": 15,
   "id": "30dcb6e2-42e0-4d9b-b130-198fae1fb1c9",
   "metadata": {},
   "outputs": [
    {
     "data": {
      "text/plain": [
       "(30000, 25)"
      ]
     },
     "execution_count": 15,
     "metadata": {},
     "output_type": "execute_result"
    }
   ],
   "source": [
    "df_github.shape"
   ]
  },
  {
   "cell_type": "code",
   "execution_count": 16,
   "id": "3089f43d-4038-47dd-aa99-c9df83b9326b",
   "metadata": {},
   "outputs": [
    {
     "data": {
      "text/html": [
       "<div>\n",
       "<style scoped>\n",
       "    .dataframe tbody tr th:only-of-type {\n",
       "        vertical-align: middle;\n",
       "    }\n",
       "\n",
       "    .dataframe tbody tr th {\n",
       "        vertical-align: top;\n",
       "    }\n",
       "\n",
       "    .dataframe thead th {\n",
       "        text-align: right;\n",
       "    }\n",
       "</style>\n",
       "<table border=\"1\" class=\"dataframe\">\n",
       "  <thead>\n",
       "    <tr style=\"text-align: right;\">\n",
       "      <th></th>\n",
       "      <th>ID</th>\n",
       "      <th>LIMIT_BAL</th>\n",
       "      <th>SEX</th>\n",
       "      <th>EDUCATION</th>\n",
       "      <th>MARRIAGE</th>\n",
       "      <th>AGE</th>\n",
       "      <th>PAY_0</th>\n",
       "      <th>PAY_2</th>\n",
       "      <th>PAY_3</th>\n",
       "      <th>PAY_4</th>\n",
       "      <th>PAY_5</th>\n",
       "      <th>PAY_6</th>\n",
       "      <th>BILL_AMT1</th>\n",
       "      <th>BILL_AMT2</th>\n",
       "      <th>BILL_AMT3</th>\n",
       "      <th>BILL_AMT4</th>\n",
       "      <th>BILL_AMT5</th>\n",
       "      <th>BILL_AMT6</th>\n",
       "      <th>PAY_AMT1</th>\n",
       "      <th>PAY_AMT2</th>\n",
       "      <th>PAY_AMT3</th>\n",
       "      <th>PAY_AMT4</th>\n",
       "      <th>PAY_AMT5</th>\n",
       "      <th>PAY_AMT6</th>\n",
       "      <th>default.payment.next.month</th>\n",
       "    </tr>\n",
       "  </thead>\n",
       "  <tbody>\n",
       "    <tr>\n",
       "      <th>0</th>\n",
       "      <td>1</td>\n",
       "      <td>20000.0</td>\n",
       "      <td>2</td>\n",
       "      <td>2</td>\n",
       "      <td>1</td>\n",
       "      <td>24</td>\n",
       "      <td>2</td>\n",
       "      <td>2</td>\n",
       "      <td>-1</td>\n",
       "      <td>-1</td>\n",
       "      <td>-2</td>\n",
       "      <td>-2</td>\n",
       "      <td>3913.0</td>\n",
       "      <td>3102.0</td>\n",
       "      <td>689.0</td>\n",
       "      <td>0.0</td>\n",
       "      <td>0.0</td>\n",
       "      <td>0.0</td>\n",
       "      <td>0.0</td>\n",
       "      <td>689.0</td>\n",
       "      <td>0.0</td>\n",
       "      <td>0.0</td>\n",
       "      <td>0.0</td>\n",
       "      <td>0.0</td>\n",
       "      <td>1</td>\n",
       "    </tr>\n",
       "    <tr>\n",
       "      <th>1</th>\n",
       "      <td>2</td>\n",
       "      <td>120000.0</td>\n",
       "      <td>2</td>\n",
       "      <td>2</td>\n",
       "      <td>2</td>\n",
       "      <td>26</td>\n",
       "      <td>-1</td>\n",
       "      <td>2</td>\n",
       "      <td>0</td>\n",
       "      <td>0</td>\n",
       "      <td>0</td>\n",
       "      <td>2</td>\n",
       "      <td>2682.0</td>\n",
       "      <td>1725.0</td>\n",
       "      <td>2682.0</td>\n",
       "      <td>3272.0</td>\n",
       "      <td>3455.0</td>\n",
       "      <td>3261.0</td>\n",
       "      <td>0.0</td>\n",
       "      <td>1000.0</td>\n",
       "      <td>1000.0</td>\n",
       "      <td>1000.0</td>\n",
       "      <td>0.0</td>\n",
       "      <td>2000.0</td>\n",
       "      <td>1</td>\n",
       "    </tr>\n",
       "    <tr>\n",
       "      <th>2</th>\n",
       "      <td>3</td>\n",
       "      <td>90000.0</td>\n",
       "      <td>2</td>\n",
       "      <td>2</td>\n",
       "      <td>2</td>\n",
       "      <td>34</td>\n",
       "      <td>0</td>\n",
       "      <td>0</td>\n",
       "      <td>0</td>\n",
       "      <td>0</td>\n",
       "      <td>0</td>\n",
       "      <td>0</td>\n",
       "      <td>29239.0</td>\n",
       "      <td>14027.0</td>\n",
       "      <td>13559.0</td>\n",
       "      <td>14331.0</td>\n",
       "      <td>14948.0</td>\n",
       "      <td>15549.0</td>\n",
       "      <td>1518.0</td>\n",
       "      <td>1500.0</td>\n",
       "      <td>1000.0</td>\n",
       "      <td>1000.0</td>\n",
       "      <td>1000.0</td>\n",
       "      <td>5000.0</td>\n",
       "      <td>0</td>\n",
       "    </tr>\n",
       "    <tr>\n",
       "      <th>3</th>\n",
       "      <td>4</td>\n",
       "      <td>50000.0</td>\n",
       "      <td>2</td>\n",
       "      <td>2</td>\n",
       "      <td>1</td>\n",
       "      <td>37</td>\n",
       "      <td>0</td>\n",
       "      <td>0</td>\n",
       "      <td>0</td>\n",
       "      <td>0</td>\n",
       "      <td>0</td>\n",
       "      <td>0</td>\n",
       "      <td>46990.0</td>\n",
       "      <td>48233.0</td>\n",
       "      <td>49291.0</td>\n",
       "      <td>28314.0</td>\n",
       "      <td>28959.0</td>\n",
       "      <td>29547.0</td>\n",
       "      <td>2000.0</td>\n",
       "      <td>2019.0</td>\n",
       "      <td>1200.0</td>\n",
       "      <td>1100.0</td>\n",
       "      <td>1069.0</td>\n",
       "      <td>1000.0</td>\n",
       "      <td>0</td>\n",
       "    </tr>\n",
       "    <tr>\n",
       "      <th>4</th>\n",
       "      <td>5</td>\n",
       "      <td>50000.0</td>\n",
       "      <td>1</td>\n",
       "      <td>2</td>\n",
       "      <td>1</td>\n",
       "      <td>57</td>\n",
       "      <td>-1</td>\n",
       "      <td>0</td>\n",
       "      <td>-1</td>\n",
       "      <td>0</td>\n",
       "      <td>0</td>\n",
       "      <td>0</td>\n",
       "      <td>8617.0</td>\n",
       "      <td>5670.0</td>\n",
       "      <td>35835.0</td>\n",
       "      <td>20940.0</td>\n",
       "      <td>19146.0</td>\n",
       "      <td>19131.0</td>\n",
       "      <td>2000.0</td>\n",
       "      <td>36681.0</td>\n",
       "      <td>10000.0</td>\n",
       "      <td>9000.0</td>\n",
       "      <td>689.0</td>\n",
       "      <td>679.0</td>\n",
       "      <td>0</td>\n",
       "    </tr>\n",
       "  </tbody>\n",
       "</table>\n",
       "</div>"
      ],
      "text/plain": [
       "   ID  LIMIT_BAL  SEX  EDUCATION  MARRIAGE  AGE  PAY_0  PAY_2  PAY_3  PAY_4  \\\n",
       "0   1    20000.0    2          2         1   24      2      2     -1     -1   \n",
       "1   2   120000.0    2          2         2   26     -1      2      0      0   \n",
       "2   3    90000.0    2          2         2   34      0      0      0      0   \n",
       "3   4    50000.0    2          2         1   37      0      0      0      0   \n",
       "4   5    50000.0    1          2         1   57     -1      0     -1      0   \n",
       "\n",
       "   PAY_5  PAY_6  BILL_AMT1  BILL_AMT2  BILL_AMT3  BILL_AMT4  BILL_AMT5  \\\n",
       "0     -2     -2     3913.0     3102.0      689.0        0.0        0.0   \n",
       "1      0      2     2682.0     1725.0     2682.0     3272.0     3455.0   \n",
       "2      0      0    29239.0    14027.0    13559.0    14331.0    14948.0   \n",
       "3      0      0    46990.0    48233.0    49291.0    28314.0    28959.0   \n",
       "4      0      0     8617.0     5670.0    35835.0    20940.0    19146.0   \n",
       "\n",
       "   BILL_AMT6  PAY_AMT1  PAY_AMT2  PAY_AMT3  PAY_AMT4  PAY_AMT5  PAY_AMT6  \\\n",
       "0        0.0       0.0     689.0       0.0       0.0       0.0       0.0   \n",
       "1     3261.0       0.0    1000.0    1000.0    1000.0       0.0    2000.0   \n",
       "2    15549.0    1518.0    1500.0    1000.0    1000.0    1000.0    5000.0   \n",
       "3    29547.0    2000.0    2019.0    1200.0    1100.0    1069.0    1000.0   \n",
       "4    19131.0    2000.0   36681.0   10000.0    9000.0     689.0     679.0   \n",
       "\n",
       "   default.payment.next.month  \n",
       "0                           1  \n",
       "1                           1  \n",
       "2                           0  \n",
       "3                           0  \n",
       "4                           0  "
      ]
     },
     "execution_count": 16,
     "metadata": {},
     "output_type": "execute_result"
    }
   ],
   "source": [
    "df_github.head()"
   ]
  },
  {
   "cell_type": "markdown",
   "id": "58692b97-dc1a-4835-9678-2160a4dde5b1",
   "metadata": {},
   "source": [
    "## **Importar desde Servidor SQL, bigquery, nube de algun proveedor, desde Apis**"
   ]
  },
  {
   "cell_type": "markdown",
   "id": "fc72a1ad-21c5-4266-b35f-f2ab9db60416",
   "metadata": {},
   "source": [
    "## **2.2 Diccionario de Variables**\n",
    "\n",
    "Los datos \"Default of Credit Card\" proporcionan información sobre el comportamiento de pago de los clientes de tarjetas de crédito en Taiwán entre abril de 2005 y septiembre de 2005. El conjunto de datos incluye información sobre los clientes de crédito, como su edad, género, estado civil, nivel educativo, historial de pagos, límite de crédito y si incumplieron en su pago o no.\n",
    "\n",
    "La variable objetivo es el incumplimiento del pago del cliente, que se define como la incapacidad de un cliente para pagar su deuda en un período de pago específico.\n",
    "\n",
    "El conjunto de datos \"Default of Credit Card\" consta de 30.000 observaciones y 25 variables, y se ha utilizado en numerosos estudios de predicción de incumplimiento de pago.\n",
    "\n",
    "* Id: identificación del cliente\n",
    "* LIMIT_BAL: límite de crédito otorgado en dólares NT (nuevo taiwanés) (incluye el crédito individual y el familiar/suplementario)\n",
    "* SEX: género (1 = masculino, 2 = femenino)\n",
    "* EDUCATION: nivel educativo (1 = posgrado, 2 = universidad, 3 = escuela secundaria, 4 = otros)\n",
    "* MARRIAGE: estado civil (1 = casado, 2 = soltero, 3 = otros)\n",
    "* AGE: edad en años\n",
    "* PAY_0 a PAY_6: historial de pagos anteriores de septiembre de 2005 a abril de 2005 (PAY_0 = el estado de reembolso en septiembre de 2005; PAY_2 = el estado de reembolso en agosto de 2005, y así sucesivamente hasta PAY_6 = el estado de reembolso en abril de 2005) (La escala de medición es la siguiente: -1 = pago debidamente, 1 = retraso en el pago por un mes, 2 = retraso en el pago por dos meses, y así sucesivamente hasta 8 = retraso en el pago por ocho meses, 9 = retraso en el pago por nueve meses y más)\n",
    "* BILL_AMT1 a BILL_AMT6: Monto de la factura de septiembre de 2005 a abril de 2005 (BILL_AMT1 = cantidad de facturación en septiembre de 2005; BILL_AMT2 = cantidad de facturación en agosto de 2005, y así sucesivamente hasta BILL_AMT6 = cantidad de facturación en abril de 2005)\n",
    "* PAY_AMT1 a PAY_AMT6: cantidad del pago anterior de septiembre de 2005 a abril de 2005 (PAY_AMT1 = cantidad pagada en septiembre de 2005; PAY_AMT2 = cantidad pagada en agosto de 2005, y así sucesivamente hasta PAY_AMT6 = cantidad pagada en abril de 2005)\n",
    "* DEFAULT_PAYMENT_NEXT_MONTH: incumplimiento del pago (1 = sí, 0 = no)\n",
    "\n",
    "fuente: https://www.kaggle.com/datasets/uciml/default-of-credit-card-clients-dataset"
   ]
  },
  {
   "cell_type": "markdown",
   "id": "f27d78a0-19a2-42e2-8a8a-2340b6c382b6",
   "metadata": {},
   "source": [
    "# **3) Depuración Datos**"
   ]
  },
  {
   "cell_type": "markdown",
   "id": "6925f9df-2dd2-4273-b2b6-e96ff9883af6",
   "metadata": {},
   "source": [
    "## **3.1 Renombrar Variables con Python**"
   ]
  },
  {
   "cell_type": "code",
   "execution_count": 9,
   "id": "df9f8254-5a98-4065-b1b1-7e037546ff37",
   "metadata": {},
   "outputs": [],
   "source": [
    "Variables_Originales=df.columns.tolist() ## Guarda los nombres de las columnas en formato lista"
   ]
  },
  {
   "cell_type": "code",
   "execution_count": 10,
   "id": "df19c185-6389-4ce0-b4f9-5c93e88dca79",
   "metadata": {},
   "outputs": [
    {
     "data": {
      "text/plain": [
       "25"
      ]
     },
     "execution_count": 10,
     "metadata": {},
     "output_type": "execute_result"
    }
   ],
   "source": [
    "len(Variables_Originales)"
   ]
  },
  {
   "cell_type": "code",
   "execution_count": 11,
   "id": "b8cf9562-eb2c-4f74-9134-e5cb526d3680",
   "metadata": {},
   "outputs": [
    {
     "data": {
      "text/plain": [
       "['ID',\n",
       " 'LIMIT_BAL',\n",
       " 'SEX',\n",
       " 'EDUCATION',\n",
       " 'MARRIAGE',\n",
       " 'AGE',\n",
       " 'PAY_0',\n",
       " 'PAY_2',\n",
       " 'PAY_3',\n",
       " 'PAY_4',\n",
       " 'PAY_5',\n",
       " 'PAY_6',\n",
       " 'BILL_AMT1',\n",
       " 'BILL_AMT2',\n",
       " 'BILL_AMT3',\n",
       " 'BILL_AMT4',\n",
       " 'BILL_AMT5',\n",
       " 'BILL_AMT6',\n",
       " 'PAY_AMT1',\n",
       " 'PAY_AMT2',\n",
       " 'PAY_AMT3',\n",
       " 'PAY_AMT4',\n",
       " 'PAY_AMT5',\n",
       " 'PAY_AMT6',\n",
       " 'default.payment.next.month']"
      ]
     },
     "execution_count": 11,
     "metadata": {},
     "output_type": "execute_result"
    }
   ],
   "source": [
    "Variables_Originales"
   ]
  },
  {
   "cell_type": "code",
   "execution_count": 17,
   "id": "652f662b-7a5c-4a6a-94a6-18688d385b87",
   "metadata": {},
   "outputs": [],
   "source": [
    "## Renombramos con diccionarios de python\n",
    "df.rename(columns={'LIMIT_BAL':'ValorCredito',\n",
    "                  \"SEX\":\"Genero\",\n",
    "                  \"EDUCATION\":\"Educacion\",\n",
    "                  'MARRIAGE':'EstadoCivil',\n",
    "                  \"AGE\":\"Edad\",\n",
    "                  \"default.payment.next.month\":\"Mora\"},inplace=True) ## Inplace=True, Ejecuta el cambio de variabels de forma permanente"
   ]
  },
  {
   "cell_type": "code",
   "execution_count": 18,
   "id": "cbecafb0-92fd-4692-bc78-46944127c31f",
   "metadata": {},
   "outputs": [
    {
     "data": {
      "text/html": [
       "<div>\n",
       "<style scoped>\n",
       "    .dataframe tbody tr th:only-of-type {\n",
       "        vertical-align: middle;\n",
       "    }\n",
       "\n",
       "    .dataframe tbody tr th {\n",
       "        vertical-align: top;\n",
       "    }\n",
       "\n",
       "    .dataframe thead th {\n",
       "        text-align: right;\n",
       "    }\n",
       "</style>\n",
       "<table border=\"1\" class=\"dataframe\">\n",
       "  <thead>\n",
       "    <tr style=\"text-align: right;\">\n",
       "      <th></th>\n",
       "      <th>ID</th>\n",
       "      <th>ValorCredito</th>\n",
       "      <th>Genero</th>\n",
       "      <th>Educacion</th>\n",
       "      <th>EstadoCivil</th>\n",
       "      <th>Edad</th>\n",
       "      <th>PAY_0</th>\n",
       "      <th>PAY_2</th>\n",
       "      <th>PAY_3</th>\n",
       "      <th>PAY_4</th>\n",
       "      <th>PAY_5</th>\n",
       "      <th>PAY_6</th>\n",
       "      <th>BILL_AMT1</th>\n",
       "      <th>BILL_AMT2</th>\n",
       "      <th>BILL_AMT3</th>\n",
       "      <th>BILL_AMT4</th>\n",
       "      <th>BILL_AMT5</th>\n",
       "      <th>BILL_AMT6</th>\n",
       "      <th>PAY_AMT1</th>\n",
       "      <th>PAY_AMT2</th>\n",
       "      <th>PAY_AMT3</th>\n",
       "      <th>PAY_AMT4</th>\n",
       "      <th>PAY_AMT5</th>\n",
       "      <th>PAY_AMT6</th>\n",
       "      <th>Mora</th>\n",
       "    </tr>\n",
       "  </thead>\n",
       "  <tbody>\n",
       "    <tr>\n",
       "      <th>0</th>\n",
       "      <td>1</td>\n",
       "      <td>20000.0</td>\n",
       "      <td>2</td>\n",
       "      <td>2</td>\n",
       "      <td>1</td>\n",
       "      <td>24</td>\n",
       "      <td>2</td>\n",
       "      <td>2</td>\n",
       "      <td>-1</td>\n",
       "      <td>-1</td>\n",
       "      <td>-2</td>\n",
       "      <td>-2</td>\n",
       "      <td>3913.0</td>\n",
       "      <td>3102.0</td>\n",
       "      <td>689.0</td>\n",
       "      <td>0.0</td>\n",
       "      <td>0.0</td>\n",
       "      <td>0.0</td>\n",
       "      <td>0.0</td>\n",
       "      <td>689.0</td>\n",
       "      <td>0.0</td>\n",
       "      <td>0.0</td>\n",
       "      <td>0.0</td>\n",
       "      <td>0.0</td>\n",
       "      <td>1</td>\n",
       "    </tr>\n",
       "    <tr>\n",
       "      <th>1</th>\n",
       "      <td>2</td>\n",
       "      <td>120000.0</td>\n",
       "      <td>2</td>\n",
       "      <td>2</td>\n",
       "      <td>2</td>\n",
       "      <td>26</td>\n",
       "      <td>-1</td>\n",
       "      <td>2</td>\n",
       "      <td>0</td>\n",
       "      <td>0</td>\n",
       "      <td>0</td>\n",
       "      <td>2</td>\n",
       "      <td>2682.0</td>\n",
       "      <td>1725.0</td>\n",
       "      <td>2682.0</td>\n",
       "      <td>3272.0</td>\n",
       "      <td>3455.0</td>\n",
       "      <td>3261.0</td>\n",
       "      <td>0.0</td>\n",
       "      <td>1000.0</td>\n",
       "      <td>1000.0</td>\n",
       "      <td>1000.0</td>\n",
       "      <td>0.0</td>\n",
       "      <td>2000.0</td>\n",
       "      <td>1</td>\n",
       "    </tr>\n",
       "    <tr>\n",
       "      <th>2</th>\n",
       "      <td>3</td>\n",
       "      <td>90000.0</td>\n",
       "      <td>2</td>\n",
       "      <td>2</td>\n",
       "      <td>2</td>\n",
       "      <td>34</td>\n",
       "      <td>0</td>\n",
       "      <td>0</td>\n",
       "      <td>0</td>\n",
       "      <td>0</td>\n",
       "      <td>0</td>\n",
       "      <td>0</td>\n",
       "      <td>29239.0</td>\n",
       "      <td>14027.0</td>\n",
       "      <td>13559.0</td>\n",
       "      <td>14331.0</td>\n",
       "      <td>14948.0</td>\n",
       "      <td>15549.0</td>\n",
       "      <td>1518.0</td>\n",
       "      <td>1500.0</td>\n",
       "      <td>1000.0</td>\n",
       "      <td>1000.0</td>\n",
       "      <td>1000.0</td>\n",
       "      <td>5000.0</td>\n",
       "      <td>0</td>\n",
       "    </tr>\n",
       "    <tr>\n",
       "      <th>3</th>\n",
       "      <td>4</td>\n",
       "      <td>50000.0</td>\n",
       "      <td>2</td>\n",
       "      <td>2</td>\n",
       "      <td>1</td>\n",
       "      <td>37</td>\n",
       "      <td>0</td>\n",
       "      <td>0</td>\n",
       "      <td>0</td>\n",
       "      <td>0</td>\n",
       "      <td>0</td>\n",
       "      <td>0</td>\n",
       "      <td>46990.0</td>\n",
       "      <td>48233.0</td>\n",
       "      <td>49291.0</td>\n",
       "      <td>28314.0</td>\n",
       "      <td>28959.0</td>\n",
       "      <td>29547.0</td>\n",
       "      <td>2000.0</td>\n",
       "      <td>2019.0</td>\n",
       "      <td>1200.0</td>\n",
       "      <td>1100.0</td>\n",
       "      <td>1069.0</td>\n",
       "      <td>1000.0</td>\n",
       "      <td>0</td>\n",
       "    </tr>\n",
       "    <tr>\n",
       "      <th>4</th>\n",
       "      <td>5</td>\n",
       "      <td>50000.0</td>\n",
       "      <td>1</td>\n",
       "      <td>2</td>\n",
       "      <td>1</td>\n",
       "      <td>57</td>\n",
       "      <td>-1</td>\n",
       "      <td>0</td>\n",
       "      <td>-1</td>\n",
       "      <td>0</td>\n",
       "      <td>0</td>\n",
       "      <td>0</td>\n",
       "      <td>8617.0</td>\n",
       "      <td>5670.0</td>\n",
       "      <td>35835.0</td>\n",
       "      <td>20940.0</td>\n",
       "      <td>19146.0</td>\n",
       "      <td>19131.0</td>\n",
       "      <td>2000.0</td>\n",
       "      <td>36681.0</td>\n",
       "      <td>10000.0</td>\n",
       "      <td>9000.0</td>\n",
       "      <td>689.0</td>\n",
       "      <td>679.0</td>\n",
       "      <td>0</td>\n",
       "    </tr>\n",
       "  </tbody>\n",
       "</table>\n",
       "</div>"
      ],
      "text/plain": [
       "   ID  ValorCredito  Genero  Educacion  EstadoCivil  Edad  PAY_0  PAY_2  \\\n",
       "0   1       20000.0       2          2            1    24      2      2   \n",
       "1   2      120000.0       2          2            2    26     -1      2   \n",
       "2   3       90000.0       2          2            2    34      0      0   \n",
       "3   4       50000.0       2          2            1    37      0      0   \n",
       "4   5       50000.0       1          2            1    57     -1      0   \n",
       "\n",
       "   PAY_3  PAY_4  PAY_5  PAY_6  BILL_AMT1  BILL_AMT2  BILL_AMT3  BILL_AMT4  \\\n",
       "0     -1     -1     -2     -2     3913.0     3102.0      689.0        0.0   \n",
       "1      0      0      0      2     2682.0     1725.0     2682.0     3272.0   \n",
       "2      0      0      0      0    29239.0    14027.0    13559.0    14331.0   \n",
       "3      0      0      0      0    46990.0    48233.0    49291.0    28314.0   \n",
       "4     -1      0      0      0     8617.0     5670.0    35835.0    20940.0   \n",
       "\n",
       "   BILL_AMT5  BILL_AMT6  PAY_AMT1  PAY_AMT2  PAY_AMT3  PAY_AMT4  PAY_AMT5  \\\n",
       "0        0.0        0.0       0.0     689.0       0.0       0.0       0.0   \n",
       "1     3455.0     3261.0       0.0    1000.0    1000.0    1000.0       0.0   \n",
       "2    14948.0    15549.0    1518.0    1500.0    1000.0    1000.0    1000.0   \n",
       "3    28959.0    29547.0    2000.0    2019.0    1200.0    1100.0    1069.0   \n",
       "4    19146.0    19131.0    2000.0   36681.0   10000.0    9000.0     689.0   \n",
       "\n",
       "   PAY_AMT6  Mora  \n",
       "0       0.0     1  \n",
       "1    2000.0     1  \n",
       "2    5000.0     0  \n",
       "3    1000.0     0  \n",
       "4     679.0     0  "
      ]
     },
     "execution_count": 18,
     "metadata": {},
     "output_type": "execute_result"
    }
   ],
   "source": [
    "df.head()"
   ]
  },
  {
   "cell_type": "markdown",
   "id": "99e9861a-f365-4a4e-9d02-1eab40373836",
   "metadata": {},
   "source": [
    "# **3.2 Creación Nuevas Variables**"
   ]
  },
  {
   "cell_type": "markdown",
   "id": "afd0b098-f1c7-4f6d-b498-a127bd65764e",
   "metadata": {},
   "source": [
    "**Extructura de Control**\n",
    "\n",
    "Las estructuras de control en Python son bloques de código que permiten modificar el flujo de ejecución de un programa. Estas estructuras permiten realizar decisiones, repetir acciones y controlar el flujo del programa según las condiciones y datos que se estén manejando. Las estructuras de control en Python se pueden clasificar en dos categorías: condicionales y bucles."
   ]
  },
  {
   "cell_type": "markdown",
   "id": "b0375739-2db3-4e6c-8e7c-160a158ab602",
   "metadata": {},
   "source": [
    "**A) Extructura de Control Condicionales**\n",
    "\n",
    "Operadores:\n",
    "\n",
    "* Mayor o igual >=\n",
    "* Menor o Igual <=\n",
    "* Igual a ==\n",
    "* diferente de !="
   ]
  },
  {
   "cell_type": "markdown",
   "id": "6c82c7a7-8c37-4dbc-8d8f-1832837422c5",
   "metadata": {},
   "source": [
    "**If Simple**"
   ]
  },
  {
   "cell_type": "code",
   "execution_count": 19,
   "id": "89207de8-dfe7-45d9-a48e-3735b4eb0a5d",
   "metadata": {},
   "outputs": [],
   "source": [
    "Edad=71"
   ]
  },
  {
   "cell_type": "code",
   "execution_count": 20,
   "id": "dddc42de-7809-4a82-b1ab-8fb7bb103fb9",
   "metadata": {},
   "outputs": [
    {
     "name": "stdout",
     "output_type": "stream",
     "text": [
      "El cliente es Mayor de Edad\n"
     ]
    }
   ],
   "source": [
    "if (Edad >=18):\n",
    "    print(\"El cliente es Mayor de Edad\")\n",
    "    RangoEdad=\"MayorEdad\""
   ]
  },
  {
   "cell_type": "markdown",
   "id": "60436c5b-55bd-4edd-8723-36abb3741524",
   "metadata": {},
   "source": [
    "**If Else**"
   ]
  },
  {
   "cell_type": "code",
   "execution_count": 21,
   "id": "5b5aa211-31fd-4e13-b7f3-c666e8e5980d",
   "metadata": {},
   "outputs": [
    {
     "name": "stdout",
     "output_type": "stream",
     "text": [
      "El cliente es Mayor de Edad\n"
     ]
    }
   ],
   "source": [
    "if (Edad >=18):\n",
    "    print(\"El cliente es Mayor de Edad\")\n",
    "    RangoEdad=\"MayorEdad\"\n",
    "else:\n",
    "    print(\"El cliente es Menor de Edad\")\n",
    "    RangoEdad=\"MenorEdad\""
   ]
  },
  {
   "cell_type": "code",
   "execution_count": 22,
   "id": "2f51fd56-4fcd-441c-9736-a3412455c4ec",
   "metadata": {},
   "outputs": [
    {
     "data": {
      "text/plain": [
       "'MayorEdad'"
      ]
     },
     "execution_count": 22,
     "metadata": {},
     "output_type": "execute_result"
    }
   ],
   "source": [
    "RangoEdad"
   ]
  },
  {
   "cell_type": "markdown",
   "id": "66fa001a-7c1c-43ed-9022-6c0c2e1373b7",
   "metadata": {},
   "source": [
    "**Condicionales Anidados: if elif**\n",
    "\n",
    "Vamos a preguntar la edad, y el mensaje sera:\n",
    "\n",
    "* si es la edad es mayor 18 y menor = a 30, mostrar que es un Joven\n",
    "* si es la edad es mayor 30 y menor = a 60, mostrar que es un Adulto\n",
    "* si es la edad es mayor 60 y menor = a 110, mostrar que es un Adulto Mayor\n",
    "* si menor a 18: menor de edad"
   ]
  },
  {
   "cell_type": "code",
   "execution_count": 23,
   "id": "77c22c1f-0406-4043-878d-10e75803e92b",
   "metadata": {},
   "outputs": [],
   "source": [
    "if (Edad >= 18 and Edad <=30):\n",
    "    RangoEdad=\"Joven\"\n",
    "elif (Edad >30  and Edad <=60):\n",
    "    RangoEdad=\"Adulto\"\n",
    "elif (Edad >60  and Edad <=110):\n",
    "    RangoEdad=\"AdultoMayor\"\n",
    "elif (Edad >110):\n",
    "    RangoEdad=\"ValidarEdad\"\n",
    "else:\n",
    "    RangoEdad=\"MenorEdad\""
   ]
  },
  {
   "cell_type": "code",
   "execution_count": 24,
   "id": "018bb2dd-d9a3-4276-8b39-7c2f0a78b576",
   "metadata": {},
   "outputs": [
    {
     "data": {
      "text/plain": [
       "'AdultoMayor'"
      ]
     },
     "execution_count": 24,
     "metadata": {},
     "output_type": "execute_result"
    }
   ],
   "source": [
    "RangoEdad"
   ]
  },
  {
   "cell_type": "markdown",
   "id": "3859b43c-8e2d-457f-aa0d-df57877f6795",
   "metadata": {},
   "source": [
    "**Traer o llamar variables de la base de datos**"
   ]
  },
  {
   "cell_type": "code",
   "execution_count": 25,
   "id": "037eb01d-b039-41d6-bacc-2a2b2dac050b",
   "metadata": {},
   "outputs": [],
   "source": [
    "Edad=df[\"Edad\"][0] # Primer cliente posicion 0"
   ]
  },
  {
   "cell_type": "code",
   "execution_count": 26,
   "id": "4d5babbb-94ec-4e05-a729-7eeec3666384",
   "metadata": {},
   "outputs": [
    {
     "data": {
      "text/plain": [
       "'Joven'"
      ]
     },
     "execution_count": 26,
     "metadata": {},
     "output_type": "execute_result"
    }
   ],
   "source": [
    "if (Edad >= 18 and Edad <=30):\n",
    "    RangoEdad=\"Joven\"\n",
    "elif (Edad >30  and Edad <=60):\n",
    "    RangoEdad=\"Adulto\"\n",
    "elif (Edad >60  and Edad <=110):\n",
    "    RangoEdad=\"AdultoMayor\"\n",
    "elif (Edad >110):\n",
    "    RangoEdad=\"ValidarEdad\"\n",
    "else:\n",
    "    RangoEdad=\"MenorEdad\"\n",
    "RangoEdad"
   ]
  },
  {
   "cell_type": "code",
   "execution_count": 27,
   "id": "2e876287-cd49-4050-a7b1-b2e7ed0f238b",
   "metadata": {},
   "outputs": [],
   "source": [
    "Edad=df[\"Edad\"][29999] # Primer cliente posicion 0"
   ]
  },
  {
   "cell_type": "code",
   "execution_count": 28,
   "id": "6c2346c9-85b4-48b4-9899-09a0b88f0723",
   "metadata": {},
   "outputs": [
    {
     "data": {
      "text/plain": [
       "'Adulto'"
      ]
     },
     "execution_count": 28,
     "metadata": {},
     "output_type": "execute_result"
    }
   ],
   "source": [
    "if (Edad >= 18 and Edad <=30):\n",
    "    RangoEdad=\"Joven\"\n",
    "elif (Edad >30  and Edad <=60):\n",
    "    RangoEdad=\"Adulto\"\n",
    "elif (Edad >60  and Edad <=110):\n",
    "    RangoEdad=\"AdultoMayor\"\n",
    "elif (Edad >110):\n",
    "    RangoEdad=\"ValidarEdad\"\n",
    "else:\n",
    "    RangoEdad=\"MenorEdad\"\n",
    "RangoEdad"
   ]
  },
  {
   "cell_type": "code",
   "execution_count": 29,
   "id": "e8034f7c-d679-43ed-bbbe-6f6a6d23c654",
   "metadata": {},
   "outputs": [
    {
     "data": {
      "text/html": [
       "<div>\n",
       "<style scoped>\n",
       "    .dataframe tbody tr th:only-of-type {\n",
       "        vertical-align: middle;\n",
       "    }\n",
       "\n",
       "    .dataframe tbody tr th {\n",
       "        vertical-align: top;\n",
       "    }\n",
       "\n",
       "    .dataframe thead th {\n",
       "        text-align: right;\n",
       "    }\n",
       "</style>\n",
       "<table border=\"1\" class=\"dataframe\">\n",
       "  <thead>\n",
       "    <tr style=\"text-align: right;\">\n",
       "      <th></th>\n",
       "      <th>ID</th>\n",
       "      <th>ValorCredito</th>\n",
       "      <th>Genero</th>\n",
       "      <th>Educacion</th>\n",
       "      <th>EstadoCivil</th>\n",
       "      <th>Edad</th>\n",
       "      <th>PAY_0</th>\n",
       "      <th>PAY_2</th>\n",
       "      <th>PAY_3</th>\n",
       "      <th>PAY_4</th>\n",
       "      <th>PAY_5</th>\n",
       "      <th>PAY_6</th>\n",
       "      <th>BILL_AMT1</th>\n",
       "      <th>BILL_AMT2</th>\n",
       "      <th>BILL_AMT3</th>\n",
       "      <th>BILL_AMT4</th>\n",
       "      <th>BILL_AMT5</th>\n",
       "      <th>BILL_AMT6</th>\n",
       "      <th>PAY_AMT1</th>\n",
       "      <th>PAY_AMT2</th>\n",
       "      <th>PAY_AMT3</th>\n",
       "      <th>PAY_AMT4</th>\n",
       "      <th>PAY_AMT5</th>\n",
       "      <th>PAY_AMT6</th>\n",
       "      <th>Mora</th>\n",
       "    </tr>\n",
       "  </thead>\n",
       "  <tbody>\n",
       "    <tr>\n",
       "      <th>29995</th>\n",
       "      <td>29996</td>\n",
       "      <td>220000.0</td>\n",
       "      <td>1</td>\n",
       "      <td>3</td>\n",
       "      <td>1</td>\n",
       "      <td>39</td>\n",
       "      <td>0</td>\n",
       "      <td>0</td>\n",
       "      <td>0</td>\n",
       "      <td>0</td>\n",
       "      <td>0</td>\n",
       "      <td>0</td>\n",
       "      <td>188948.0</td>\n",
       "      <td>192815.0</td>\n",
       "      <td>208365.0</td>\n",
       "      <td>88004.0</td>\n",
       "      <td>31237.0</td>\n",
       "      <td>15980.0</td>\n",
       "      <td>8500.0</td>\n",
       "      <td>20000.0</td>\n",
       "      <td>5003.0</td>\n",
       "      <td>3047.0</td>\n",
       "      <td>5000.0</td>\n",
       "      <td>1000.0</td>\n",
       "      <td>0</td>\n",
       "    </tr>\n",
       "    <tr>\n",
       "      <th>29996</th>\n",
       "      <td>29997</td>\n",
       "      <td>150000.0</td>\n",
       "      <td>1</td>\n",
       "      <td>3</td>\n",
       "      <td>2</td>\n",
       "      <td>43</td>\n",
       "      <td>-1</td>\n",
       "      <td>-1</td>\n",
       "      <td>-1</td>\n",
       "      <td>-1</td>\n",
       "      <td>0</td>\n",
       "      <td>0</td>\n",
       "      <td>1683.0</td>\n",
       "      <td>1828.0</td>\n",
       "      <td>3502.0</td>\n",
       "      <td>8979.0</td>\n",
       "      <td>5190.0</td>\n",
       "      <td>0.0</td>\n",
       "      <td>1837.0</td>\n",
       "      <td>3526.0</td>\n",
       "      <td>8998.0</td>\n",
       "      <td>129.0</td>\n",
       "      <td>0.0</td>\n",
       "      <td>0.0</td>\n",
       "      <td>0</td>\n",
       "    </tr>\n",
       "    <tr>\n",
       "      <th>29997</th>\n",
       "      <td>29998</td>\n",
       "      <td>30000.0</td>\n",
       "      <td>1</td>\n",
       "      <td>2</td>\n",
       "      <td>2</td>\n",
       "      <td>37</td>\n",
       "      <td>4</td>\n",
       "      <td>3</td>\n",
       "      <td>2</td>\n",
       "      <td>-1</td>\n",
       "      <td>0</td>\n",
       "      <td>0</td>\n",
       "      <td>3565.0</td>\n",
       "      <td>3356.0</td>\n",
       "      <td>2758.0</td>\n",
       "      <td>20878.0</td>\n",
       "      <td>20582.0</td>\n",
       "      <td>19357.0</td>\n",
       "      <td>0.0</td>\n",
       "      <td>0.0</td>\n",
       "      <td>22000.0</td>\n",
       "      <td>4200.0</td>\n",
       "      <td>2000.0</td>\n",
       "      <td>3100.0</td>\n",
       "      <td>1</td>\n",
       "    </tr>\n",
       "    <tr>\n",
       "      <th>29998</th>\n",
       "      <td>29999</td>\n",
       "      <td>80000.0</td>\n",
       "      <td>1</td>\n",
       "      <td>3</td>\n",
       "      <td>1</td>\n",
       "      <td>41</td>\n",
       "      <td>1</td>\n",
       "      <td>-1</td>\n",
       "      <td>0</td>\n",
       "      <td>0</td>\n",
       "      <td>0</td>\n",
       "      <td>-1</td>\n",
       "      <td>-1645.0</td>\n",
       "      <td>78379.0</td>\n",
       "      <td>76304.0</td>\n",
       "      <td>52774.0</td>\n",
       "      <td>11855.0</td>\n",
       "      <td>48944.0</td>\n",
       "      <td>85900.0</td>\n",
       "      <td>3409.0</td>\n",
       "      <td>1178.0</td>\n",
       "      <td>1926.0</td>\n",
       "      <td>52964.0</td>\n",
       "      <td>1804.0</td>\n",
       "      <td>1</td>\n",
       "    </tr>\n",
       "    <tr>\n",
       "      <th>29999</th>\n",
       "      <td>30000</td>\n",
       "      <td>50000.0</td>\n",
       "      <td>1</td>\n",
       "      <td>2</td>\n",
       "      <td>1</td>\n",
       "      <td>46</td>\n",
       "      <td>0</td>\n",
       "      <td>0</td>\n",
       "      <td>0</td>\n",
       "      <td>0</td>\n",
       "      <td>0</td>\n",
       "      <td>0</td>\n",
       "      <td>47929.0</td>\n",
       "      <td>48905.0</td>\n",
       "      <td>49764.0</td>\n",
       "      <td>36535.0</td>\n",
       "      <td>32428.0</td>\n",
       "      <td>15313.0</td>\n",
       "      <td>2078.0</td>\n",
       "      <td>1800.0</td>\n",
       "      <td>1430.0</td>\n",
       "      <td>1000.0</td>\n",
       "      <td>1000.0</td>\n",
       "      <td>1000.0</td>\n",
       "      <td>1</td>\n",
       "    </tr>\n",
       "  </tbody>\n",
       "</table>\n",
       "</div>"
      ],
      "text/plain": [
       "          ID  ValorCredito  Genero  Educacion  EstadoCivil  Edad  PAY_0  \\\n",
       "29995  29996      220000.0       1          3            1    39      0   \n",
       "29996  29997      150000.0       1          3            2    43     -1   \n",
       "29997  29998       30000.0       1          2            2    37      4   \n",
       "29998  29999       80000.0       1          3            1    41      1   \n",
       "29999  30000       50000.0       1          2            1    46      0   \n",
       "\n",
       "       PAY_2  PAY_3  PAY_4  PAY_5  PAY_6  BILL_AMT1  BILL_AMT2  BILL_AMT3  \\\n",
       "29995      0      0      0      0      0   188948.0   192815.0   208365.0   \n",
       "29996     -1     -1     -1      0      0     1683.0     1828.0     3502.0   \n",
       "29997      3      2     -1      0      0     3565.0     3356.0     2758.0   \n",
       "29998     -1      0      0      0     -1    -1645.0    78379.0    76304.0   \n",
       "29999      0      0      0      0      0    47929.0    48905.0    49764.0   \n",
       "\n",
       "       BILL_AMT4  BILL_AMT5  BILL_AMT6  PAY_AMT1  PAY_AMT2  PAY_AMT3  \\\n",
       "29995    88004.0    31237.0    15980.0    8500.0   20000.0    5003.0   \n",
       "29996     8979.0     5190.0        0.0    1837.0    3526.0    8998.0   \n",
       "29997    20878.0    20582.0    19357.0       0.0       0.0   22000.0   \n",
       "29998    52774.0    11855.0    48944.0   85900.0    3409.0    1178.0   \n",
       "29999    36535.0    32428.0    15313.0    2078.0    1800.0    1430.0   \n",
       "\n",
       "       PAY_AMT4  PAY_AMT5  PAY_AMT6  Mora  \n",
       "29995    3047.0    5000.0    1000.0     0  \n",
       "29996     129.0       0.0       0.0     0  \n",
       "29997    4200.0    2000.0    3100.0     1  \n",
       "29998    1926.0   52964.0    1804.0     1  \n",
       "29999    1000.0    1000.0    1000.0     1  "
      ]
     },
     "execution_count": 29,
     "metadata": {},
     "output_type": "execute_result"
    }
   ],
   "source": [
    "df.tail() ## Los últimos datos"
   ]
  },
  {
   "cell_type": "markdown",
   "id": "a1541377-c1af-4d4b-9b0f-e07f4c12c339",
   "metadata": {},
   "source": [
    "**Las funciones**\n",
    "\n",
    "Las funciones en Python son bloques de código que realizan una tarea específica y pueden ser reutilizados en diferentes partes de un programa. Las funciones permiten organizar y estructurar el código de manera más eficiente, facilitando su mantenimiento y legibilidad.\n",
    "\n",
    "Las funciones se definen con la palbra def, espacio y se coloca el nombre(parametros) : codigo y por ultimo el return"
   ]
  },
  {
   "cell_type": "code",
   "execution_count": 30,
   "id": "68987ab4-5758-4eac-ac60-8d38fcafbd76",
   "metadata": {},
   "outputs": [],
   "source": [
    "## FUncion que sume dos numeros"
   ]
  },
  {
   "cell_type": "code",
   "execution_count": 31,
   "id": "b3ddb735-51f7-432e-a356-59a1415d8ff3",
   "metadata": {},
   "outputs": [],
   "source": [
    "def Sumar_2_numeros(x=0,y=0):\n",
    "    Resultado=x+y\n",
    "    return Resultado"
   ]
  },
  {
   "cell_type": "code",
   "execution_count": 32,
   "id": "3d92d376-e356-4491-a195-ad9251e1b071",
   "metadata": {},
   "outputs": [
    {
     "data": {
      "text/plain": [
       "145"
      ]
     },
     "execution_count": 32,
     "metadata": {},
     "output_type": "execute_result"
    }
   ],
   "source": [
    "Sumar_2_numeros(89,56)"
   ]
  },
  {
   "cell_type": "code",
   "execution_count": 33,
   "id": "0e464130-7888-4601-8202-e027222be798",
   "metadata": {},
   "outputs": [
    {
     "data": {
      "text/plain": [
       "245"
      ]
     },
     "execution_count": 33,
     "metadata": {},
     "output_type": "execute_result"
    }
   ],
   "source": [
    "Sumar_2_numeros(89,156)"
   ]
  },
  {
   "cell_type": "code",
   "execution_count": 34,
   "id": "f20ec4d5-1721-4a5e-ae47-28cc15fd9f8c",
   "metadata": {},
   "outputs": [
    {
     "data": {
      "text/plain": [
       "245"
      ]
     },
     "execution_count": 34,
     "metadata": {},
     "output_type": "execute_result"
    }
   ],
   "source": [
    "Sumar_2_numeros(189,56)"
   ]
  },
  {
   "cell_type": "code",
   "execution_count": 35,
   "id": "4b08812f-f79c-4e32-a26a-22f02f5ead51",
   "metadata": {},
   "outputs": [
    {
     "data": {
      "text/plain": [
       "2"
      ]
     },
     "execution_count": 35,
     "metadata": {},
     "output_type": "execute_result"
    }
   ],
   "source": [
    "Sumar_2_numeros(1,1)"
   ]
  },
  {
   "cell_type": "code",
   "execution_count": 36,
   "id": "69f4c37c-13d8-4e04-b282-b032c9135258",
   "metadata": {},
   "outputs": [
    {
     "data": {
      "text/plain": [
       "0"
      ]
     },
     "execution_count": 36,
     "metadata": {},
     "output_type": "execute_result"
    }
   ],
   "source": [
    "Sumar_2_numeros()"
   ]
  },
  {
   "cell_type": "code",
   "execution_count": null,
   "id": "54ff62c5-40f0-49cb-800a-151181e97a4a",
   "metadata": {},
   "outputs": [],
   "source": []
  }
 ],
 "metadata": {
  "kernelspec": {
   "display_name": "Python 3 (ipykernel)",
   "language": "python",
   "name": "python3"
  },
  "language_info": {
   "codemirror_mode": {
    "name": "ipython",
    "version": 3
   },
   "file_extension": ".py",
   "mimetype": "text/x-python",
   "name": "python",
   "nbconvert_exporter": "python",
   "pygments_lexer": "ipython3",
   "version": "3.9.13"
  }
 },
 "nbformat": 4,
 "nbformat_minor": 5
}
