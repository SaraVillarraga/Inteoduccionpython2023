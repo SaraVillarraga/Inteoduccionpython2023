{
  "cells": [
    {
      "cell_type": "markdown",
      "metadata": {
        "id": "view-in-github",
        "colab_type": "text"
      },
      "source": [
        "<a href=\"https://colab.research.google.com/github/SaraVillarraga/Inteoduccionpython2023/blob/main/3_DataFrame.ipynb\" target=\"_parent\"><img src=\"https://colab.research.google.com/assets/colab-badge.svg\" alt=\"Open In Colab\"/></a>"
      ]
    },
    {
      "cell_type": "markdown",
      "id": "c86b17e7-1603-43fb-bf4a-8e53bccf1e6f",
      "metadata": {
        "id": "c86b17e7-1603-43fb-bf4a-8e53bccf1e6f"
      },
      "source": [
        "# **Librerias Python**\n",
        "\n",
        "En Python, una biblioteca (o librería) es un conjunto de módulos que proporcionan funcionalidades adicionales al lenguaje Python. Las bibliotecas se utilizan para extender las capacidades de Python más allá de las funciones incorporadas en el lenguaje.\n",
        "\n",
        "Librerias populares: \n",
        "* Pandas: Biblioteca para la manipulación y análisis de datos que proporciona estructuras de datos como DataFrames y Series, que facilitan el trabajo con datos estructurados.\n",
        "https://pandas.pydata.org/docs/user_guide/index.html#user-guide\n",
        "\n",
        "* Numpy: Biblioteca de Python para realizar operaciones matemáticas y de álgebra lineal con arreglos multidimensionales y funciones matriciales."
      ]
    },
    {
      "cell_type": "code",
      "execution_count": null,
      "id": "56e2fd99-7112-4d6f-90aa-d81a9ff559fa",
      "metadata": {
        "id": "56e2fd99-7112-4d6f-90aa-d81a9ff559fa"
      },
      "outputs": [],
      "source": [
        "!pip install pandas"
      ]
    },
    {
      "cell_type": "code",
      "execution_count": null,
      "id": "258e2123-4949-4603-8c2a-4898f80d990d",
      "metadata": {
        "id": "258e2123-4949-4603-8c2a-4898f80d990d"
      },
      "outputs": [],
      "source": [
        "import pandas as pd # con alias\n",
        "import numpy  as np\n",
        "import os\n",
        "import warnings\n",
        "warnings.filterwarnings(\"ignore\",category=FutureWarning)"
      ]
    },
    {
      "cell_type": "markdown",
      "id": "49fee5f6-8bdd-44e5-aca1-4262a06dd4a4",
      "metadata": {
        "id": "49fee5f6-8bdd-44e5-aca1-4262a06dd4a4"
      },
      "source": [
        "**Series Pandas**\n",
        "\n",
        "En Pandas, una serie es un objeto unidimensional que se utiliza para almacenar datos etiquetados. Las series son similares a las listas o arrays de NumPy, pero tienen la capacidad adicional de asignar etiquetas a los datos, lo que permite un acceso más rápido y fácil a los datos almacenados."
      ]
    },
    {
      "cell_type": "code",
      "execution_count": null,
      "id": "e169068f-dddc-4de2-9f9d-810bd92322e9",
      "metadata": {
        "id": "e169068f-dddc-4de2-9f9d-810bd92322e9",
        "outputId": "ecc8a239-7ca8-49e0-f8c9-5ddaeafce7b5"
      },
      "outputs": [
        {
          "data": {
            "text/plain": [
              "[25, 35, 46, 56, 18]"
            ]
          },
          "execution_count": 11,
          "metadata": {},
          "output_type": "execute_result"
        }
      ],
      "source": [
        "ListaEdad=[25,35,46,56,18]\n",
        "ListaEdad"
      ]
    },
    {
      "cell_type": "code",
      "execution_count": null,
      "id": "a55fffcc-df28-4deb-8dad-b620c61e9cdf",
      "metadata": {
        "id": "a55fffcc-df28-4deb-8dad-b620c61e9cdf",
        "outputId": "90883713-3adf-4558-cdca-097ea38346c7"
      },
      "outputs": [
        {
          "data": {
            "text/plain": [
              "0    25\n",
              "1    35\n",
              "2    46\n",
              "3    56\n",
              "4    18\n",
              "dtype: int64"
            ]
          },
          "execution_count": 12,
          "metadata": {},
          "output_type": "execute_result"
        }
      ],
      "source": [
        "## Podemos crearlas a partir de una lista\n",
        "SerieEdad=pd.Series(ListaEdad)\n",
        "SerieEdad"
      ]
    },
    {
      "cell_type": "code",
      "execution_count": null,
      "id": "cef77897-3f09-4ea6-a26b-2263d3a4074f",
      "metadata": {
        "id": "cef77897-3f09-4ea6-a26b-2263d3a4074f",
        "outputId": "c0d89751-b3e6-4f21-dc66-14fc02e81ff7"
      },
      "outputs": [
        {
          "data": {
            "text/plain": [
              "25"
            ]
          },
          "execution_count": 13,
          "metadata": {},
          "output_type": "execute_result"
        }
      ],
      "source": [
        "## Acceder a los datos de la serie\n",
        "SerieEdad[0]"
      ]
    },
    {
      "cell_type": "code",
      "execution_count": null,
      "id": "3c7b2939-fc25-4be2-a746-f69fff807b6f",
      "metadata": {
        "id": "3c7b2939-fc25-4be2-a746-f69fff807b6f",
        "outputId": "e36d74b6-420c-497a-bdb5-92b3b3516b06"
      },
      "outputs": [
        {
          "data": {
            "text/plain": [
              "18"
            ]
          },
          "execution_count": 15,
          "metadata": {},
          "output_type": "execute_result"
        }
      ],
      "source": [
        "SerieEdad[4]"
      ]
    },
    {
      "cell_type": "code",
      "execution_count": null,
      "id": "1b6175e9-1a04-4269-ba89-f0c5da31b0b1",
      "metadata": {
        "id": "1b6175e9-1a04-4269-ba89-f0c5da31b0b1"
      },
      "outputs": [],
      "source": [
        "## Crear una serie a partir de un diccionario \n",
        "Edad_Diccionarios={\"Sara\":25,\"Fabian\":35,\"Ricardo\":40}"
      ]
    },
    {
      "cell_type": "code",
      "execution_count": null,
      "id": "ffb6fa5b-e2a8-4aa0-ac77-3405fe6b4f1a",
      "metadata": {
        "id": "ffb6fa5b-e2a8-4aa0-ac77-3405fe6b4f1a",
        "outputId": "30087c1a-a878-4017-9529-eaa210721c94"
      },
      "outputs": [
        {
          "data": {
            "text/plain": [
              "25"
            ]
          },
          "execution_count": 17,
          "metadata": {},
          "output_type": "execute_result"
        }
      ],
      "source": [
        "Edad_Diccionarios[\"Sara\"]"
      ]
    },
    {
      "cell_type": "code",
      "execution_count": null,
      "id": "38f17021-153b-489e-89b5-22fb911c1081",
      "metadata": {
        "id": "38f17021-153b-489e-89b5-22fb911c1081"
      },
      "outputs": [],
      "source": [
        "SerieDiccionarioEdad=pd.Series(Edad_Diccionarios)"
      ]
    },
    {
      "cell_type": "code",
      "execution_count": null,
      "id": "4e8be55e-1b50-49df-bc6f-0f89688666ad",
      "metadata": {
        "id": "4e8be55e-1b50-49df-bc6f-0f89688666ad",
        "outputId": "1c83df7f-0f0d-49f0-8888-a5a4a7f21076"
      },
      "outputs": [
        {
          "data": {
            "text/plain": [
              "Sara       25\n",
              "Fabian     35\n",
              "Ricardo    40\n",
              "dtype: int64"
            ]
          },
          "execution_count": 20,
          "metadata": {},
          "output_type": "execute_result"
        }
      ],
      "source": [
        "SerieDiccionarioEdad"
      ]
    },
    {
      "cell_type": "code",
      "execution_count": null,
      "id": "55c7b891-84ec-4ec0-bf6d-602eafc14e42",
      "metadata": {
        "id": "55c7b891-84ec-4ec0-bf6d-602eafc14e42",
        "outputId": "507bed37-de02-4b1c-a456-6497a93b2061"
      },
      "outputs": [
        {
          "data": {
            "text/plain": [
              "25"
            ]
          },
          "execution_count": 21,
          "metadata": {},
          "output_type": "execute_result"
        }
      ],
      "source": [
        "SerieDiccionarioEdad[\"Sara\"]"
      ]
    },
    {
      "cell_type": "code",
      "execution_count": null,
      "id": "fbdd3b81-69b5-4625-bee0-8a9d8774745d",
      "metadata": {
        "id": "fbdd3b81-69b5-4625-bee0-8a9d8774745d"
      },
      "outputs": [],
      "source": [
        "## Agregar un Dato nuevo a la serie\n",
        "SerieDiccionarioEdad=SerieDiccionarioEdad.append(pd.Series(50,index=[\"oscar\"]))"
      ]
    },
    {
      "cell_type": "code",
      "execution_count": null,
      "id": "64596511-6ee8-4de0-972d-10f6a4177539",
      "metadata": {
        "id": "64596511-6ee8-4de0-972d-10f6a4177539",
        "outputId": "9510a372-75e6-4d5e-88a4-f9e073866113"
      },
      "outputs": [
        {
          "data": {
            "text/plain": [
              "Sara       25\n",
              "Fabian     35\n",
              "Ricardo    40\n",
              "oscar      50\n",
              "dtype: int64"
            ]
          },
          "execution_count": 24,
          "metadata": {},
          "output_type": "execute_result"
        }
      ],
      "source": [
        "SerieDiccionarioEdad"
      ]
    },
    {
      "cell_type": "markdown",
      "id": "50c5ac4c-250c-4016-a20d-928f573fd589",
      "metadata": {
        "id": "50c5ac4c-250c-4016-a20d-928f573fd589"
      },
      "source": [
        "**DataFrame en Python (Tablas Filas y Columnas)**\n",
        "\n",
        "En Python, un DataFrame es una estructura de datos bidimensional, similar a una hoja de cálculo o una tabla de base de datos, que se utiliza para almacenar y manipular datos. Los DataFrames se utilizan comúnmente en el análisis de datos y la ciencia de datos, ya que permiten organizar y manipular grandes cantidades de datos de manera eficiente."
      ]
    },
    {
      "cell_type": "code",
      "execution_count": null,
      "id": "8ce0ceed-7845-484a-8fe3-2dd0890b05a8",
      "metadata": {
        "id": "8ce0ceed-7845-484a-8fe3-2dd0890b05a8"
      },
      "outputs": [],
      "source": [
        "## CREARLOS DESDE LISTAS\n",
        "Nombres=[\"Ana\",\"Pedro\",\"Sara\",\"Ricardo\",\"Julian\",\"Sebastian\",\"Maria\"]\n",
        "Edad=[25,35,46,52,18,19,21]\n",
        "Salario=[2500000,5000000,8000000,8500000,15000000,35000000,60000000]\n",
        "Cargo=[\"Aprendiz\",\"Analista\",\"Financiero\",\"Desarrollador\",\"Lider Tecnico\",\"Senador\",\"Manager TIC\"]\n",
        "Producto=[\"TC Estudiantil\",\"CDT\",\"TC ORO\",\"TC PREMIUM\",\"Libranza\",\"Hipoteca\"]"
      ]
    },
    {
      "cell_type": "code",
      "execution_count": null,
      "id": "99fe3f13-9f40-4392-8e0d-313e67ccef17",
      "metadata": {
        "id": "99fe3f13-9f40-4392-8e0d-313e67ccef17",
        "outputId": "93ba4f18-8a9c-46fa-957f-023ae8847126"
      },
      "outputs": [
        {
          "data": {
            "text/plain": [
              "['Ana', 'Pedro', 'Sara', 'Ricardo', 'Julian', 'Sebastian', 'Maria']"
            ]
          },
          "execution_count": 28,
          "metadata": {},
          "output_type": "execute_result"
        }
      ],
      "source": [
        "Nombres"
      ]
    },
    {
      "cell_type": "code",
      "execution_count": null,
      "id": "245ea217-b978-4728-9dbb-c24ab38af459",
      "metadata": {
        "id": "245ea217-b978-4728-9dbb-c24ab38af459",
        "outputId": "310558de-92b6-4aa1-d07d-a54b6131d6d4"
      },
      "outputs": [
        {
          "data": {
            "text/plain": [
              "[25, 35, 46, 52, 18, 19, 21]"
            ]
          },
          "execution_count": 29,
          "metadata": {},
          "output_type": "execute_result"
        }
      ],
      "source": [
        "Edad"
      ]
    },
    {
      "cell_type": "code",
      "execution_count": null,
      "id": "f5d79550-3170-4c25-a87f-cf7cc80d359e",
      "metadata": {
        "id": "f5d79550-3170-4c25-a87f-cf7cc80d359e",
        "outputId": "ed3b1f8e-c067-4f52-ef71-ee3940c8e438"
      },
      "outputs": [
        {
          "data": {
            "text/plain": [
              "[('Ana', 25, 2500000, 'Aprendiz', 'TC Estudiantil'),\n",
              " ('Pedro', 35, 5000000, 'Analista', 'CDT'),\n",
              " ('Sara', 46, 8000000, 'Financiero', 'TC ORO'),\n",
              " ('Ricardo', 52, 8500000, 'Desarrollador', 'TC PREMIUM'),\n",
              " ('Julian', 18, 15000000, 'Lider Tecnico', 'Libranza'),\n",
              " ('Sebastian', 19, 35000000, 'Senador', 'Hipoteca')]"
            ]
          },
          "execution_count": 30,
          "metadata": {},
          "output_type": "execute_result"
        }
      ],
      "source": [
        "## Mapeamos las combinacioes con el comando zip\n",
        "Clientes=list(zip(Nombres,Edad,Salario,Cargo,Producto))\n",
        "Clientes"
      ]
    },
    {
      "cell_type": "code",
      "execution_count": null,
      "id": "e65d67b0-f2c0-4fb6-a171-4fd216f9c0e0",
      "metadata": {
        "id": "e65d67b0-f2c0-4fb6-a171-4fd216f9c0e0",
        "outputId": "d2bf6689-9118-4d3c-e624-dcb611448337"
      },
      "outputs": [
        {
          "data": {
            "text/html": [
              "<div>\n",
              "<style scoped>\n",
              "    .dataframe tbody tr th:only-of-type {\n",
              "        vertical-align: middle;\n",
              "    }\n",
              "\n",
              "    .dataframe tbody tr th {\n",
              "        vertical-align: top;\n",
              "    }\n",
              "\n",
              "    .dataframe thead th {\n",
              "        text-align: right;\n",
              "    }\n",
              "</style>\n",
              "<table border=\"1\" class=\"dataframe\">\n",
              "  <thead>\n",
              "    <tr style=\"text-align: right;\">\n",
              "      <th></th>\n",
              "      <th>Nombre</th>\n",
              "      <th>Edad</th>\n",
              "      <th>Salario</th>\n",
              "      <th>Cargo</th>\n",
              "      <th>Producto</th>\n",
              "    </tr>\n",
              "  </thead>\n",
              "  <tbody>\n",
              "    <tr>\n",
              "      <th>0</th>\n",
              "      <td>Ana</td>\n",
              "      <td>25</td>\n",
              "      <td>2500000</td>\n",
              "      <td>Aprendiz</td>\n",
              "      <td>TC Estudiantil</td>\n",
              "    </tr>\n",
              "    <tr>\n",
              "      <th>1</th>\n",
              "      <td>Pedro</td>\n",
              "      <td>35</td>\n",
              "      <td>5000000</td>\n",
              "      <td>Analista</td>\n",
              "      <td>CDT</td>\n",
              "    </tr>\n",
              "    <tr>\n",
              "      <th>2</th>\n",
              "      <td>Sara</td>\n",
              "      <td>46</td>\n",
              "      <td>8000000</td>\n",
              "      <td>Financiero</td>\n",
              "      <td>TC ORO</td>\n",
              "    </tr>\n",
              "    <tr>\n",
              "      <th>3</th>\n",
              "      <td>Ricardo</td>\n",
              "      <td>52</td>\n",
              "      <td>8500000</td>\n",
              "      <td>Desarrollador</td>\n",
              "      <td>TC PREMIUM</td>\n",
              "    </tr>\n",
              "    <tr>\n",
              "      <th>4</th>\n",
              "      <td>Julian</td>\n",
              "      <td>18</td>\n",
              "      <td>15000000</td>\n",
              "      <td>Lider Tecnico</td>\n",
              "      <td>Libranza</td>\n",
              "    </tr>\n",
              "    <tr>\n",
              "      <th>5</th>\n",
              "      <td>Sebastian</td>\n",
              "      <td>19</td>\n",
              "      <td>35000000</td>\n",
              "      <td>Senador</td>\n",
              "      <td>Hipoteca</td>\n",
              "    </tr>\n",
              "  </tbody>\n",
              "</table>\n",
              "</div>"
            ],
            "text/plain": [
              "      Nombre  Edad   Salario          Cargo        Producto\n",
              "0        Ana    25   2500000       Aprendiz  TC Estudiantil\n",
              "1      Pedro    35   5000000       Analista             CDT\n",
              "2       Sara    46   8000000     Financiero          TC ORO\n",
              "3    Ricardo    52   8500000  Desarrollador      TC PREMIUM\n",
              "4     Julian    18  15000000  Lider Tecnico        Libranza\n",
              "5  Sebastian    19  35000000        Senador        Hipoteca"
            ]
          },
          "execution_count": 31,
          "metadata": {},
          "output_type": "execute_result"
        }
      ],
      "source": [
        "## Aplicar la funcion pd.DataFrame para convetir finalmente en una Tabla\n",
        "BaseClientes=pd.DataFrame(Clientes,columns=[\"Nombre\",\"Edad\",\"Salario\",\"Cargo\",\"Producto\"])\n",
        "BaseClientes"
      ]
    },
    {
      "cell_type": "code",
      "execution_count": null,
      "id": "7f5f9171-31f6-4de8-9188-f54923357eb1",
      "metadata": {
        "id": "7f5f9171-31f6-4de8-9188-f54923357eb1",
        "outputId": "931b8e66-3022-4446-d509-86f2e3b4dc16"
      },
      "outputs": [
        {
          "data": {
            "text/html": [
              "<div>\n",
              "<style scoped>\n",
              "    .dataframe tbody tr th:only-of-type {\n",
              "        vertical-align: middle;\n",
              "    }\n",
              "\n",
              "    .dataframe tbody tr th {\n",
              "        vertical-align: top;\n",
              "    }\n",
              "\n",
              "    .dataframe thead th {\n",
              "        text-align: right;\n",
              "    }\n",
              "</style>\n",
              "<table border=\"1\" class=\"dataframe\">\n",
              "  <thead>\n",
              "    <tr style=\"text-align: right;\">\n",
              "      <th></th>\n",
              "      <th>Nombre</th>\n",
              "      <th>Edad</th>\n",
              "      <th>Salario</th>\n",
              "      <th>Cargo</th>\n",
              "      <th>Producto</th>\n",
              "    </tr>\n",
              "  </thead>\n",
              "  <tbody>\n",
              "    <tr>\n",
              "      <th>0</th>\n",
              "      <td>Ana</td>\n",
              "      <td>25</td>\n",
              "      <td>2500000</td>\n",
              "      <td>Aprendiz</td>\n",
              "      <td>TC Estudiantil</td>\n",
              "    </tr>\n",
              "    <tr>\n",
              "      <th>1</th>\n",
              "      <td>Pedro</td>\n",
              "      <td>35</td>\n",
              "      <td>5000000</td>\n",
              "      <td>Analista</td>\n",
              "      <td>CDT</td>\n",
              "    </tr>\n",
              "    <tr>\n",
              "      <th>2</th>\n",
              "      <td>Sara</td>\n",
              "      <td>46</td>\n",
              "      <td>8000000</td>\n",
              "      <td>Financiero</td>\n",
              "      <td>TC ORO</td>\n",
              "    </tr>\n",
              "    <tr>\n",
              "      <th>3</th>\n",
              "      <td>Ricardo</td>\n",
              "      <td>52</td>\n",
              "      <td>8500000</td>\n",
              "      <td>Desarrollador</td>\n",
              "      <td>TC PREMIUM</td>\n",
              "    </tr>\n",
              "    <tr>\n",
              "      <th>4</th>\n",
              "      <td>Julian</td>\n",
              "      <td>18</td>\n",
              "      <td>15000000</td>\n",
              "      <td>Lider Tecnico</td>\n",
              "      <td>Libranza</td>\n",
              "    </tr>\n",
              "    <tr>\n",
              "      <th>5</th>\n",
              "      <td>Sebastian</td>\n",
              "      <td>19</td>\n",
              "      <td>35000000</td>\n",
              "      <td>Senador</td>\n",
              "      <td>Hipoteca</td>\n",
              "    </tr>\n",
              "  </tbody>\n",
              "</table>\n",
              "</div>"
            ],
            "text/plain": [
              "      Nombre  Edad   Salario          Cargo        Producto\n",
              "0        Ana    25   2500000       Aprendiz  TC Estudiantil\n",
              "1      Pedro    35   5000000       Analista             CDT\n",
              "2       Sara    46   8000000     Financiero          TC ORO\n",
              "3    Ricardo    52   8500000  Desarrollador      TC PREMIUM\n",
              "4     Julian    18  15000000  Lider Tecnico        Libranza\n",
              "5  Sebastian    19  35000000        Senador        Hipoteca"
            ]
          },
          "execution_count": 32,
          "metadata": {},
          "output_type": "execute_result"
        }
      ],
      "source": [
        "BaseClientes"
      ]
    },
    {
      "cell_type": "code",
      "execution_count": null,
      "id": "f7bb347b-c83a-4c25-a5e9-088f5f22aafa",
      "metadata": {
        "id": "f7bb347b-c83a-4c25-a5e9-088f5f22aafa"
      },
      "outputs": [],
      "source": [
        "## Exportar  o Guardarla"
      ]
    },
    {
      "cell_type": "code",
      "execution_count": null,
      "id": "30e177e4-33cb-4f20-b496-15f34ae69094",
      "metadata": {
        "id": "30e177e4-33cb-4f20-b496-15f34ae69094"
      },
      "outputs": [],
      "source": [
        "BaseClientes.to_excel(\"./Resultados/Clientes.xlsx\",index=False)"
      ]
    },
    {
      "cell_type": "code",
      "execution_count": null,
      "id": "1589c4d6-7288-4db2-a53a-d0d1d2807822",
      "metadata": {
        "id": "1589c4d6-7288-4db2-a53a-d0d1d2807822"
      },
      "outputs": [],
      "source": []
    }
  ],
  "metadata": {
    "kernelspec": {
      "display_name": "Python 3 (ipykernel)",
      "language": "python",
      "name": "python3"
    },
    "language_info": {
      "codemirror_mode": {
        "name": "ipython",
        "version": 3
      },
      "file_extension": ".py",
      "mimetype": "text/x-python",
      "name": "python",
      "nbconvert_exporter": "python",
      "pygments_lexer": "ipython3",
      "version": "3.9.13"
    },
    "colab": {
      "provenance": [],
      "include_colab_link": true
    }
  },
  "nbformat": 4,
  "nbformat_minor": 5
}